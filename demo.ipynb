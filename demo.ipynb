{
 "cells": [
  {
   "cell_type": "code",
   "execution_count": null,
   "id": "30e61f1e",
   "metadata": {},
   "outputs": [],
   "source": [
    "from app.canvas import Canvas\n",
    "from app.turtle import RandomWalkTurtle, RandomPolarTurtle, IncrementingPolarTurtle\n",
    "from app.coord import Coord\n",
    "\n",
    "import math\n",
    "import matplotlib.pyplot as plt\n",
    "import numpy as np"
   ]
  },
  {
   "cell_type": "markdown",
   "id": "601a964b",
   "metadata": {},
   "source": [
    "# Create Cartesian Turtle and Canvas"
   ]
  },
  {
   "cell_type": "code",
   "execution_count": null,
   "id": "069b8100",
   "metadata": {},
   "outputs": [],
   "source": [
    "sp = Coord(800, 800)\n",
    "t = RandomWalkTurtle(start_position=sp, seed=14)\n",
    "c = Canvas(t, grid_size=(1600,1600))\n",
    "n = 700000"
   ]
  },
  {
   "cell_type": "code",
   "execution_count": null,
   "id": "5ae1648a",
   "metadata": {},
   "outputs": [],
   "source": [
    "c.n_steps(n)"
   ]
  },
  {
   "cell_type": "code",
   "execution_count": null,
   "id": "9b5f0500",
   "metadata": {},
   "outputs": [],
   "source": [
    "plt.figure(figsize=(20,20));\n",
    "plt.imshow(c.grid, cmap=plt.get_cmap('gist_heat'))\n",
    "plt.axis('off');"
   ]
  },
  {
   "cell_type": "code",
   "execution_count": null,
   "id": "b84ed7b7",
   "metadata": {},
   "outputs": [],
   "source": [
    "plt.imsave('example.jpg',c.grid, vmin=0, vmax=60)"
   ]
  },
  {
   "cell_type": "markdown",
   "id": "134a4548",
   "metadata": {},
   "source": [
    "# Create Random Polar Turtle"
   ]
  },
  {
   "cell_type": "code",
   "execution_count": null,
   "id": "5cd6d938",
   "metadata": {},
   "outputs": [],
   "source": [
    "sp = Coord(800, 800)\n",
    "t = RandomPolarTurtle(start_position=sp, step_size=10, seed=14)\n",
    "c = Canvas(t, grid_size=(1600,1600))\n",
    "n = 10000"
   ]
  },
  {
   "cell_type": "code",
   "execution_count": null,
   "id": "4121e5b8",
   "metadata": {},
   "outputs": [],
   "source": [
    "c.n_steps(n)"
   ]
  },
  {
   "cell_type": "code",
   "execution_count": null,
   "id": "3ce5e287",
   "metadata": {},
   "outputs": [],
   "source": [
    "plt.figure(figsize=(20,20));\n",
    "plt.imshow(c.grid, cmap=plt.get_cmap('gist_heat'))\n",
    "plt.axis('off');"
   ]
  },
  {
   "cell_type": "code",
   "execution_count": null,
   "id": "f5a4b9b5",
   "metadata": {},
   "outputs": [],
   "source": [
    "c.grid.max()"
   ]
  },
  {
   "cell_type": "code",
   "execution_count": null,
   "id": "4c4cfa2a",
   "metadata": {},
   "outputs": [],
   "source": [
    "plt.imsave('polar_example.jpg',c.grid, vmin=0, vmax=10)"
   ]
  },
  {
   "cell_type": "markdown",
   "id": "a607c68a",
   "metadata": {},
   "source": [
    "# Create Incrementing Polar Turtle"
   ]
  },
  {
   "cell_type": "code",
   "execution_count": null,
   "id": "39c5a5ed",
   "metadata": {},
   "outputs": [],
   "source": [
    "sp = Coord(800, 1500)\n",
    "t = IncrementingPolarTurtle(start_position=sp, step_size=10, increment_ratio=1/math.e)\n",
    "c = Canvas(t, grid_size=(1800,1800))\n",
    "n = 35000"
   ]
  },
  {
   "cell_type": "code",
   "execution_count": null,
   "id": "ec9e597f",
   "metadata": {},
   "outputs": [],
   "source": [
    "c.n_steps(n)"
   ]
  },
  {
   "cell_type": "code",
   "execution_count": null,
   "id": "8088653a",
   "metadata": {},
   "outputs": [],
   "source": [
    "plt.figure(figsize=(20,20));\n",
    "plt.imshow(c.grid, cmap=plt.get_cmap('gist_heat'))\n",
    "plt.axis('off');"
   ]
  },
  {
   "cell_type": "code",
   "execution_count": null,
   "id": "a2f9f475",
   "metadata": {},
   "outputs": [],
   "source": [
    "c.grid.max()"
   ]
  },
  {
   "cell_type": "code",
   "execution_count": null,
   "id": "c569e6fe",
   "metadata": {},
   "outputs": [],
   "source": [
    "plt.imsave('big_irrational_example.jpg',c.grid, vmin=0, vmax=8)"
   ]
  },
  {
   "cell_type": "code",
   "execution_count": null,
   "id": "c9f56ef6",
   "metadata": {},
   "outputs": [],
   "source": []
  }
 ],
 "metadata": {
  "kernelspec": {
   "display_name": "Python 3 (ipykernel)",
   "language": "python",
   "name": "python3"
  },
  "language_info": {
   "codemirror_mode": {
    "name": "ipython",
    "version": 3
   },
   "file_extension": ".py",
   "mimetype": "text/x-python",
   "name": "python",
   "nbconvert_exporter": "python",
   "pygments_lexer": "ipython3",
   "version": "3.9.4"
  }
 },
 "nbformat": 4,
 "nbformat_minor": 5
}
